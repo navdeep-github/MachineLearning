{
  "nbformat": 4,
  "nbformat_minor": 0,
  "metadata": {
    "colab": {
      "name": "Copy of naive_bayes.ipynb",
      "provenance": [],
      "collapsed_sections": [],
      "machine_shape": "hm",
      "include_colab_link": true
    },
    "kernelspec": {
      "name": "python3",
      "display_name": "Python 3"
    }
  },
  "cells": [
    {
      "cell_type": "markdown",
      "metadata": {
        "id": "view-in-github",
        "colab_type": "text"
      },
      "source": [
        "<a href=\"https://colab.research.google.com/github/navdeep-github/MachineLearning/blob/master/Naive_bayes.ipynb\" target=\"_parent\"><img src=\"https://colab.research.google.com/assets/colab-badge.svg\" alt=\"Open In Colab\"/></a>"
      ]
    },
    {
      "cell_type": "markdown",
      "metadata": {
        "id": "0MRC0e0KhQ0S",
        "colab_type": "text"
      },
      "source": [
        "# Naive Bayes"
      ]
    },
    {
      "cell_type": "markdown",
      "metadata": {
        "id": "LWd1UlMnhT2s",
        "colab_type": "text"
      },
      "source": [
        "## Importing the libraries"
      ]
    },
    {
      "cell_type": "code",
      "metadata": {
        "id": "YvGPUQaHhXfL",
        "colab_type": "code",
        "colab": {}
      },
      "source": [
        "import numpy as np\n",
        "import matplotlib.pyplot as plt\n",
        "import pandas as pd"
      ],
      "execution_count": 17,
      "outputs": []
    },
    {
      "cell_type": "markdown",
      "metadata": {
        "id": "K1VMqkGvhc3-",
        "colab_type": "text"
      },
      "source": [
        "## Importing the dataset"
      ]
    },
    {
      "cell_type": "code",
      "metadata": {
        "id": "AcbUqxYJrKtI",
        "colab_type": "code",
        "colab": {}
      },
      "source": [
        "dataset = pd.read_csv('Social_Network_Ads.csv')\n",
        "\n",
        "X = dataset.iloc[:,0:2].values\n",
        "\n",
        "y = dataset.iloc[:,-1].values\n",
        "\n",
        "\n"
      ],
      "execution_count": 18,
      "outputs": []
    },
    {
      "cell_type": "markdown",
      "metadata": {
        "id": "YvxIPVyMhmKp",
        "colab_type": "text"
      },
      "source": [
        "## Splitting the dataset into the Training set and Test set"
      ]
    },
    {
      "cell_type": "code",
      "metadata": {
        "id": "XC3qSghWskqW",
        "colab_type": "code",
        "colab": {
          "base_uri": "https://localhost:8080/",
          "height": 87
        },
        "outputId": "56555b53-55b6-4018-ca91-df6b496111cb"
      },
      "source": [
        "from sklearn.model_selection import train_test_split\n",
        "\n",
        "X_train, X_test, y_train, y_test =  train_test_split(X,y,test_size= 0.3)\n",
        "\n",
        "print(X_train.shape)\n",
        "print(X_test.shape)\n",
        "print(y_train.shape)\n",
        "print(y_test.shape)"
      ],
      "execution_count": 19,
      "outputs": [
        {
          "output_type": "stream",
          "text": [
            "(280, 2)\n",
            "(120, 2)\n",
            "(280,)\n",
            "(120,)\n"
          ],
          "name": "stdout"
        }
      ]
    },
    {
      "cell_type": "markdown",
      "metadata": {
        "id": "kW3c7UYih0hT",
        "colab_type": "text"
      },
      "source": [
        "## Feature Scaling"
      ]
    },
    {
      "cell_type": "code",
      "metadata": {
        "id": "vLTzwzA5tRnE",
        "colab_type": "code",
        "colab": {
          "base_uri": "https://localhost:8080/",
          "height": 1000
        },
        "outputId": "428ca407-b556-4b80-8e7e-cbb0a05510b3"
      },
      "source": [
        "from sklearn.preprocessing import  StandardScaler\n",
        "\n",
        "sc = StandardScaler()\n",
        "\n",
        "X_train = sc.fit_transform(X_train)\n",
        "X_test = sc.transform(X_test)\n",
        "\n",
        "print(X_train)"
      ],
      "execution_count": 20,
      "outputs": [
        {
          "output_type": "stream",
          "text": [
            "[[-0.65680283  0.00655072]\n",
            " [ 0.41184626 -0.17095268]\n",
            " [ 0.89759584 -1.35430866]\n",
            " [-0.65680283  1.396994  ]\n",
            " [-1.72545192 -0.64429507]\n",
            " [ 1.86909502  0.09530242]\n",
            " [-0.85110267 -1.26555696]\n",
            " [-0.65680283 -1.56139596]\n",
            " [-0.462503    1.24907451]\n",
            " [-1.0454025  -0.49637557]\n",
            " [-1.33685225 -1.14722137]\n",
            " [ 0.31469634 -0.31887218]\n",
            " [-0.26820316  0.59822871]\n",
            " [ 0.02324659 -0.46679167]\n",
            " [ 1.7719451  -0.31887218]\n",
            " [-0.07390333  0.18405412]\n",
            " [ 0.31469634 -0.23012048]\n",
            " [ 1.09189568  2.0774237 ]\n",
            " [-0.07390333 -0.25970438]\n",
            " [ 0.31469634  0.47989312]\n",
            " [-0.85110267 -0.28928828]\n",
            " [-1.33685225 -1.41347646]\n",
            " [ 0.80044593  0.24322192]\n",
            " [-0.26820316  0.03613462]\n",
            " [ 1.57764526  0.98281941]\n",
            " [-0.17105325  1.6040813 ]\n",
            " [-0.94825259  0.53906091]\n",
            " [ 0.21754642 -0.17095268]\n",
            " [-1.0454025  -0.40762387]\n",
            " [ 1.86909502  1.5153296 ]\n",
            " [ 0.1203965   0.00655072]\n",
            " [ 0.1203965  -0.34845608]\n",
            " [ 1.96624493 -0.70346287]\n",
            " [ 0.21754642 -0.28928828]\n",
            " [ 1.96624493  2.1661754 ]\n",
            " [ 0.99474576 -0.88096627]\n",
            " [ 0.1203965   1.8703364 ]\n",
            " [ 0.99474576 -1.11763747]\n",
            " [-1.43400217 -0.67387897]\n",
            " [-0.55965292  0.45030922]\n",
            " [-0.94825259  0.39114142]\n",
            " [ 1.28619551 -1.41347646]\n",
            " [ 0.31469634  0.24322192]\n",
            " [ 1.09189568 -0.17095268]\n",
            " [-1.43400217  0.33197362]\n",
            " [ 0.41184626  0.24322192]\n",
            " [-0.26820316 -0.70346287]\n",
            " [ 1.38334543  1.27865841]\n",
            " [-0.07390333  0.65739651]\n",
            " [-0.94825259 -0.34845608]\n",
            " [-1.0454025   0.74614821]\n",
            " [-0.75395275  0.53906091]\n",
            " [-0.26820316 -1.50222816]\n",
            " [-0.26820316 -0.61471117]\n",
            " [-1.72545192  0.09530242]\n",
            " [-1.14255242  0.45030922]\n",
            " [-0.26820316  0.06571852]\n",
            " [ 0.70329601 -1.14722137]\n",
            " [ 0.1203965   0.24322192]\n",
            " [-0.55965292 -1.56139596]\n",
            " [ 2.16054477 -0.85138237]\n",
            " [ 0.99474576  0.74614821]\n",
            " [ 1.38334543 -0.96971797]\n",
            " [ 0.1203965   0.74614821]\n",
            " [ 1.86909502 -1.11763747]\n",
            " [-0.07390333  0.09530242]\n",
            " [ 1.09189568 -1.02888577]\n",
            " [ 0.80044593 -1.26555696]\n",
            " [ 2.06339485  0.15447022]\n",
            " [-0.85110267  0.36155752]\n",
            " [ 0.70329601 -0.76263067]\n",
            " [-1.14255242 -1.65014766]\n",
            " [ 0.31469634 -0.55554337]\n",
            " [-0.07390333 -1.11763747]\n",
            " [-1.0454025  -0.37803997]\n",
            " [-0.94825259  0.24322192]\n",
            " [-1.33685225 -1.53181206]\n",
            " [-0.65680283 -0.14136878]\n",
            " [ 0.89759584 -0.61471117]\n",
            " [ 0.1203965   0.18405412]\n",
            " [-1.0454025   0.53906091]\n",
            " [-0.26820316 -1.44306036]\n",
            " [-1.72545192 -1.02888577]\n",
            " [ 0.21754642  0.21363802]\n",
            " [ 1.09189568  0.45030922]\n",
            " [-0.26820316  1.10115501]\n",
            " [ 0.41184626  0.12488632]\n",
            " [ 0.50899617  1.7224169 ]\n",
            " [-0.07390333  0.12488632]\n",
            " [-0.26820316 -0.37803997]\n",
            " [-0.26820316 -0.61471117]\n",
            " [ 0.99474576 -1.05846967]\n",
            " [-0.26820316  0.03613462]\n",
            " [-1.91975176 -0.79221457]\n",
            " [ 0.60614609 -0.94013407]\n",
            " [-0.94825259 -0.46679167]\n",
            " [-1.91975176 -0.08220098]\n",
            " [-1.33685225 -0.37803997]\n",
            " [-0.17105325  0.12488632]\n",
            " [ 1.48049535  0.03613462]\n",
            " [ 0.80044593 -0.34845608]\n",
            " [-1.23970234 -1.11763747]\n",
            " [-0.85110267 -0.82179847]\n",
            " [ 0.02324659 -0.61471117]\n",
            " [ 1.7719451   0.98281941]\n",
            " [ 0.70329601  1.7815847 ]\n",
            " [ 0.21754642 -0.70346287]\n",
            " [-1.14255242 -1.05846967]\n",
            " [-0.462503   -0.82179847]\n",
            " [ 1.28619551  2.2253432 ]\n",
            " [-0.17105325  1.396994  ]\n",
            " [ 0.41184626 -0.17095268]\n",
            " [-1.23970234  0.27280582]\n",
            " [-0.65680283 -1.65014766]\n",
            " [ 0.70329601  0.24322192]\n",
            " [-0.26820316  0.77573211]\n",
            " [ 1.96624493  0.89406771]\n",
            " [ 0.99474576 -1.23597307]\n",
            " [-1.53115209 -1.29514086]\n",
            " [-0.26820316  0.12488632]\n",
            " [-1.14255242  0.30238972]\n",
            " [ 0.21754642  0.12488632]\n",
            " [-1.14255242  1.396994  ]\n",
            " [ 0.89759584 -1.41347646]\n",
            " [-1.43400217 -1.26555696]\n",
            " [-1.72545192  0.45030922]\n",
            " [ 2.16054477 -0.73304677]\n",
            " [-1.14255242  0.39114142]\n",
            " [-1.62830201 -0.08220098]\n",
            " [ 0.31469634  0.27280582]\n",
            " [ 2.16054477  0.36155752]\n",
            " [ 0.50899617  1.8407525 ]\n",
            " [-0.26820316 -0.46679167]\n",
            " [ 0.41184626  1.10115501]\n",
            " [ 2.06339485  0.36155752]\n",
            " [ 0.21754642  0.12488632]\n",
            " [-0.75395275  1.33782621]\n",
            " [ 0.02324659 -0.17095268]\n",
            " [-0.55965292  1.8999203 ]\n",
            " [ 0.31469634 -0.76263067]\n",
            " [-0.65680283  0.09530242]\n",
            " [-1.62830201 -1.62056376]\n",
            " [ 0.21754642 -0.40762387]\n",
            " [ 1.48049535  2.1365915 ]\n",
            " [ 0.89759584  1.01240331]\n",
            " [ 1.18904559 -1.02888577]\n",
            " [ 0.31469634 -1.20638917]\n",
            " [ 0.89759584 -0.58512727]\n",
            " [ 1.67479518  1.6040813 ]\n",
            " [ 0.31469634  0.00655072]\n",
            " [-0.07390333 -0.46679167]\n",
            " [ 0.1203965  -0.85138237]\n",
            " [-1.14255242 -1.65014766]\n",
            " [ 0.41184626  0.06571852]\n",
            " [-0.75395275  1.07157111]\n",
            " [-0.55965292 -1.56139596]\n",
            " [ 1.38334543 -1.47264426]\n",
            " [ 1.18904559 -0.79221457]\n",
            " [ 0.89759584 -0.64429507]\n",
            " [-0.462503   -0.58512727]\n",
            " [ 0.31469634 -0.34845608]\n",
            " [ 0.02324659 -0.28928828]\n",
            " [ 0.21754642  0.00655072]\n",
            " [ 0.41184626 -0.02303318]\n",
            " [ 0.41184626 -0.20053658]\n",
            " [-1.72545192  0.33197362]\n",
            " [ 1.86909502 -0.31887218]\n",
            " [-0.55965292  1.4561618 ]\n",
            " [ 1.38334543  1.988672  ]\n",
            " [ 0.99474576  1.4265779 ]\n",
            " [ 0.80044593  0.50947701]\n",
            " [ 1.7719451   1.8407525 ]\n",
            " [-0.17105325 -0.55554337]\n",
            " [ 0.70329601 -1.32472476]\n",
            " [ 0.31469634 -0.55554337]\n",
            " [-1.0454025   1.9590881 ]\n",
            " [ 1.57764526 -1.32472476]\n",
            " [ 0.1203965   1.04198721]\n",
            " [ 0.02324659  0.00655072]\n",
            " [-1.0454025  -1.59097986]\n",
            " [-1.33685225 -0.46679167]\n",
            " [-0.07390333  0.27280582]\n",
            " [ 2.06339485  1.7520008 ]\n",
            " [-0.75395275 -1.65014766]\n",
            " [ 1.09189568  0.09530242]\n",
            " [-0.07390333  0.00655072]\n",
            " [-0.07390333  0.21363802]\n",
            " [-0.75395275  1.8999203 ]\n",
            " [-1.23970234  0.56864481]\n",
            " [-0.85110267 -0.82179847]\n",
            " [-1.91975176  0.45030922]\n",
            " [ 0.31469634  0.03613462]\n",
            " [-0.17105325 -0.31887218]\n",
            " [-0.07390333  2.1661754 ]\n",
            " [ 0.41184626  0.98281941]\n",
            " [ 0.1203965   0.06571852]\n",
            " [-0.36535308 -0.82179847]\n",
            " [-0.462503   -0.05261708]\n",
            " [ 0.89759584 -1.20638917]\n",
            " [-0.85110267  0.12488632]\n",
            " [-0.55965292  2.34367879]\n",
            " [ 0.02324659  0.27280582]\n",
            " [-0.462503   -1.26555696]\n",
            " [ 0.02324659 -0.34845608]\n",
            " [ 1.48049535 -1.08805357]\n",
            " [-0.26820316 -0.96971797]\n",
            " [-1.23970234 -1.44306036]\n",
            " [-0.36535308 -0.82179847]\n",
            " [ 0.02324659 -0.61471117]\n",
            " [ 0.99474576  2.0774237 ]\n",
            " [-0.07390333 -0.52595947]\n",
            " [ 0.41184626 -0.49637557]\n",
            " [-1.72545192 -1.41347646]\n",
            " [-0.94825259 -0.99930187]\n",
            " [-0.94825259 -0.79221457]\n",
            " [ 1.28619551  1.8703364 ]\n",
            " [-0.65680283  0.53906091]\n",
            " [-1.14255242  0.03613462]\n",
            " [-0.75395275  0.47989312]\n",
            " [-1.0454025   0.50947701]\n",
            " [ 0.21754642 -0.40762387]\n",
            " [-0.26820316  0.12488632]\n",
            " [ 0.31469634  0.03613462]\n",
            " [ 0.99474576 -1.20638917]\n",
            " [ 0.80044593 -1.41347646]\n",
            " [ 0.89759584  1.24907451]\n",
            " [-0.26820316  2.2549271 ]\n",
            " [-0.462503   -0.88096627]\n",
            " [-1.43400217 -0.23012048]\n",
            " [ 0.1203965  -0.28928828]\n",
            " [-0.26820316 -0.94013407]\n",
            " [ 0.89759584  2.1661754 ]\n",
            " [-1.53115209 -1.56139596]\n",
            " [-1.0454025  -1.50222816]\n",
            " [ 2.16054477 -0.85138237]\n",
            " [-0.94825259 -1.14722137]\n",
            " [-0.26820316 -0.17095268]\n",
            " [ 0.02324659 -0.28928828]\n",
            " [ 0.99474576  0.56864481]\n",
            " [-0.26820316 -0.31887218]\n",
            " [-1.14255242  0.27280582]\n",
            " [ 0.99474576  0.09530242]\n",
            " [ 0.80044593  1.36741011]\n",
            " [ 1.38334543  2.34367879]\n",
            " [ 0.89759584  1.07157111]\n",
            " [ 0.80044593  0.74614821]\n",
            " [ 0.31469634 -0.58512727]\n",
            " [-1.33685225  0.39114142]\n",
            " [-0.85110267  2.28451099]\n",
            " [-1.62830201  0.03613462]\n",
            " [-0.55965292  1.36741011]\n",
            " [ 0.21754642 -0.31887218]\n",
            " [-0.55965292  0.86448381]\n",
            " [-0.55965292  1.36741011]\n",
            " [-1.82260184  0.15447022]\n",
            " [ 1.09189568  0.53906091]\n",
            " [-1.0454025  -0.37803997]\n",
            " [-0.85110267  0.36155752]\n",
            " [-0.75395275 -1.59097986]\n",
            " [-0.36535308  0.03613462]\n",
            " [ 2.06339485  2.1365915 ]\n",
            " [-0.07390333  0.27280582]\n",
            " [ 2.16054477  0.92365161]\n",
            " [ 0.31469634  0.03613462]\n",
            " [-1.0454025   0.39114142]\n",
            " [ 0.99474576  1.988672  ]\n",
            " [-0.94825259  0.42072532]\n",
            " [-0.65680283 -0.08220098]\n",
            " [ 0.89759584 -0.70346287]\n",
            " [-1.91975176 -0.55554337]\n",
            " [ 0.21754642  1.07157111]\n",
            " [ 0.99474576  1.8703364 ]\n",
            " [ 0.02324659  0.00655072]\n",
            " [ 1.57764526 -0.02303318]\n",
            " [-0.85110267  0.27280582]\n",
            " [-1.82260184 -0.02303318]\n",
            " [ 0.70329601 -1.44306036]\n",
            " [ 0.1203965   1.8703364 ]\n",
            " [-1.14255242 -1.62056376]\n",
            " [-0.26820316 -0.79221457]]\n"
          ],
          "name": "stdout"
        }
      ]
    },
    {
      "cell_type": "code",
      "metadata": {
        "id": "Y7OAw8Obt1Ip",
        "colab_type": "code",
        "colab": {
          "base_uri": "https://localhost:8080/",
          "height": 1000
        },
        "outputId": "c27aaa13-e923-455a-e256-fd946a458070"
      },
      "source": [
        "print(X_test)"
      ],
      "execution_count": 21,
      "outputs": [
        {
          "output_type": "stream",
          "text": [
            "[[-0.36535308 -1.35430866]\n",
            " [-0.17105325  2.1661754 ]\n",
            " [-1.82260184 -1.35430866]\n",
            " [-0.07390333 -0.02303318]\n",
            " [-1.23970234  0.24322192]\n",
            " [ 1.48049535  0.98281941]\n",
            " [ 0.41184626  0.27280582]\n",
            " [ 1.96624493 -0.96971797]\n",
            " [ 1.09189568 -0.94013407]\n",
            " [-1.62830201  0.50947701]\n",
            " [ 1.48049535  0.33197362]\n",
            " [-1.82260184 -1.32472476]\n",
            " [-0.65680283 -0.37803997]\n",
            " [-1.14255242 -1.20638917]\n",
            " [-0.07390333 -0.55554337]\n",
            " [-1.72545192  0.33197362]\n",
            " [ 0.89759584 -1.50222816]\n",
            " [ 0.1203965   0.12488632]\n",
            " [-0.26820316 -1.29514086]\n",
            " [-0.07390333  1.9590881 ]\n",
            " [-0.75395275 -0.25970438]\n",
            " [ 1.09189568  0.50947701]\n",
            " [ 0.41184626 -0.49637557]\n",
            " [-1.14255242  0.27280582]\n",
            " [-0.07390333  0.03613462]\n",
            " [-1.43400217 -0.14136878]\n",
            " [ 0.1203965   1.5153296 ]\n",
            " [-0.85110267 -0.70346287]\n",
            " [-1.14255242 -0.55554337]\n",
            " [ 1.86909502 -1.32472476]\n",
            " [-0.17105325 -1.11763747]\n",
            " [ 0.80044593 -1.14722137]\n",
            " [ 1.57764526  1.10115501]\n",
            " [-0.75395275  0.24322192]\n",
            " [ 0.02324659  1.21949061]\n",
            " [ 0.1203965   0.00655072]\n",
            " [ 0.02324659 -0.58512727]\n",
            " [-0.462503   -1.17680527]\n",
            " [-0.26820316  0.18405412]\n",
            " [-1.82260184 -1.53181206]\n",
            " [-0.26820316 -0.40762387]\n",
            " [ 0.21754642 -0.34845608]\n",
            " [ 1.38334543  0.56864481]\n",
            " [ 0.21754642  0.03613462]\n",
            " [-0.17105325  0.83489991]\n",
            " [ 0.41184626  2.31409489]\n",
            " [ 1.67479518  1.7520008 ]\n",
            " [-0.65680283  0.15447022]\n",
            " [ 0.21754642 -0.40762387]\n",
            " [-0.36535308  1.21949061]\n",
            " [ 0.60614609  2.0182559 ]\n",
            " [-0.26820316 -1.35430866]\n",
            " [ 0.89759584 -1.08805357]\n",
            " [ 0.41184626  0.56864481]\n",
            " [-1.53115209 -0.46679167]\n",
            " [-0.26820316 -1.41347646]\n",
            " [-1.43400217 -1.50222816]\n",
            " [ 0.80044593 -0.88096627]\n",
            " [ 0.80044593  0.09530242]\n",
            " [-1.53115209  0.30238972]\n",
            " [-0.462503   -0.31887218]\n",
            " [-0.17105325  1.6336652 ]\n",
            " [-1.33685225 -0.46679167]\n",
            " [ 0.80044593 -1.44306036]\n",
            " [-0.17105325 -0.49637557]\n",
            " [ 0.41184626 -0.52595947]\n",
            " [ 0.70329601 -1.44306036]\n",
            " [-1.0454025  -1.17680527]\n",
            " [ 2.16054477 -1.08805357]\n",
            " [-1.14255242 -1.14722137]\n",
            " [ 0.50899617  1.21949061]\n",
            " [-0.07390333  0.24322192]\n",
            " [ 0.99474576 -1.11763747]\n",
            " [-0.65680283 -1.08805357]\n",
            " [ 2.06339485 -1.23597307]\n",
            " [-0.36535308  1.30824231]\n",
            " [ 1.18904559 -1.50222816]\n",
            " [-0.26820316 -0.34845608]\n",
            " [-1.23970234  0.47989312]\n",
            " [-0.75395275  0.27280582]\n",
            " [-1.33685225  0.53906091]\n",
            " [-1.14255242 -0.82179847]\n",
            " [-0.75395275 -0.64429507]\n",
            " [-1.91975176  0.33197362]\n",
            " [ 0.99474576  1.7815847 ]\n",
            " [-0.26820316  0.50947701]\n",
            " [-1.82260184  0.42072532]\n",
            " [ 2.06339485  0.50947701]\n",
            " [-0.462503    2.31409489]\n",
            " [ 1.09189568 -1.26555696]\n",
            " [ 2.06339485 -0.85138237]\n",
            " [-0.07390333 -0.40762387]\n",
            " [ 1.67479518 -0.94013407]\n",
            " [ 1.96624493 -1.41347646]\n",
            " [ 0.89759584 -0.82179847]\n",
            " [-1.82260184 -1.47264426]\n",
            " [-0.26820316 -0.28928828]\n",
            " [ 2.16054477  1.10115501]\n",
            " [ 0.31469634  0.03613462]\n",
            " [-0.17105325 -0.61471117]\n",
            " [-0.07390333  2.2253432 ]\n",
            " [ 1.18904559  0.50947701]\n",
            " [-0.26820316  0.00655072]\n",
            " [ 1.09189568 -1.26555696]\n",
            " [ 1.96624493  0.71656431]\n",
            " [-0.26820316  0.24322192]\n",
            " [ 0.41184626  0.27280582]\n",
            " [-1.14255242 -1.59097986]\n",
            " [ 0.80044593  0.33197362]\n",
            " [-1.53115209 -0.23012048]\n",
            " [-0.94825259  1.5449135 ]\n",
            " [-1.0454025   0.56864481]\n",
            " [-0.94825259 -0.34845608]\n",
            " [-0.17105325 -0.23012048]\n",
            " [ 0.21754642  2.1070076 ]\n",
            " [-0.94825259  0.47989312]\n",
            " [ 0.02324659  1.24907451]\n",
            " [ 0.1203965  -0.85138237]\n",
            " [-0.26820316 -0.52595947]\n",
            " [-1.33685225 -1.29514086]]\n"
          ],
          "name": "stdout"
        }
      ]
    },
    {
      "cell_type": "markdown",
      "metadata": {
        "id": "bb6jCOCQiAmP",
        "colab_type": "text"
      },
      "source": [
        "## Training the Naive Bayes model on the Training set"
      ]
    },
    {
      "cell_type": "code",
      "metadata": {
        "id": "h4iiyOQCt4ob",
        "colab_type": "code",
        "colab": {
          "base_uri": "https://localhost:8080/",
          "height": 34
        },
        "outputId": "434ca517-e334-4851-9dcb-ea4bdc658998"
      },
      "source": [
        "from sklearn.naive_bayes import GaussianNB\n",
        "\n",
        "classifier = GaussianNB()\n",
        "\n",
        "classifier.fit(X_train,y_train)"
      ],
      "execution_count": 22,
      "outputs": [
        {
          "output_type": "execute_result",
          "data": {
            "text/plain": [
              "GaussianNB(priors=None, var_smoothing=1e-09)"
            ]
          },
          "metadata": {
            "tags": []
          },
          "execution_count": 22
        }
      ]
    },
    {
      "cell_type": "markdown",
      "metadata": {
        "id": "yyxW5b395mR2",
        "colab_type": "text"
      },
      "source": [
        "## Predicting a new result"
      ]
    },
    {
      "cell_type": "code",
      "metadata": {
        "id": "9q4_EuvOuUyw",
        "colab_type": "code",
        "colab": {
          "base_uri": "https://localhost:8080/",
          "height": 34
        },
        "outputId": "92ac87b6-2f13-4ee7-cd9f-4623867ddfc9"
      },
      "source": [
        "classifier.predict([[34,90000]])\n",
        "\n"
      ],
      "execution_count": 23,
      "outputs": [
        {
          "output_type": "execute_result",
          "data": {
            "text/plain": [
              "array([1])"
            ]
          },
          "metadata": {
            "tags": []
          },
          "execution_count": 23
        }
      ]
    },
    {
      "cell_type": "markdown",
      "metadata": {
        "id": "vKYVQH-l5NpE",
        "colab_type": "text"
      },
      "source": [
        "### Predicting the Test set results"
      ]
    },
    {
      "cell_type": "code",
      "metadata": {
        "id": "bmc7BYL3v_7Y",
        "colab_type": "code",
        "colab": {
          "base_uri": "https://localhost:8080/",
          "height": 1000
        },
        "outputId": "447e5354-75d1-4d8e-be3f-c35701acd06b"
      },
      "source": [
        "y_pred = classifier.predict(X_test)\n",
        "print(np.concatenate((y_pred.reshape(len(y_pred),1), y_test.reshape(len(y_test),1)),1))"
      ],
      "execution_count": 24,
      "outputs": [
        {
          "output_type": "stream",
          "text": [
            "[[0 0]\n",
            " [1 1]\n",
            " [0 0]\n",
            " [0 1]\n",
            " [0 0]\n",
            " [1 1]\n",
            " [0 1]\n",
            " [1 1]\n",
            " [1 1]\n",
            " [0 0]\n",
            " [1 1]\n",
            " [0 0]\n",
            " [0 0]\n",
            " [0 0]\n",
            " [0 0]\n",
            " [0 0]\n",
            " [1 1]\n",
            " [0 1]\n",
            " [0 0]\n",
            " [1 1]\n",
            " [0 0]\n",
            " [1 1]\n",
            " [0 0]\n",
            " [0 0]\n",
            " [0 0]\n",
            " [0 0]\n",
            " [1 1]\n",
            " [0 0]\n",
            " [0 0]\n",
            " [1 1]\n",
            " [0 0]\n",
            " [0 1]\n",
            " [1 1]\n",
            " [0 0]\n",
            " [1 0]\n",
            " [0 0]\n",
            " [0 0]\n",
            " [0 0]\n",
            " [0 0]\n",
            " [0 0]\n",
            " [0 0]\n",
            " [0 0]\n",
            " [1 1]\n",
            " [0 0]\n",
            " [0 1]\n",
            " [1 1]\n",
            " [1 1]\n",
            " [0 0]\n",
            " [0 0]\n",
            " [0 1]\n",
            " [1 1]\n",
            " [0 0]\n",
            " [1 1]\n",
            " [0 1]\n",
            " [0 0]\n",
            " [0 0]\n",
            " [0 0]\n",
            " [0 1]\n",
            " [1 0]\n",
            " [0 0]\n",
            " [0 0]\n",
            " [1 1]\n",
            " [0 0]\n",
            " [1 0]\n",
            " [0 0]\n",
            " [0 0]\n",
            " [0 1]\n",
            " [0 0]\n",
            " [1 1]\n",
            " [0 0]\n",
            " [1 1]\n",
            " [0 1]\n",
            " [1 1]\n",
            " [0 0]\n",
            " [1 1]\n",
            " [0 0]\n",
            " [1 1]\n",
            " [0 0]\n",
            " [0 0]\n",
            " [0 0]\n",
            " [0 0]\n",
            " [0 0]\n",
            " [0 0]\n",
            " [0 0]\n",
            " [1 1]\n",
            " [0 0]\n",
            " [0 0]\n",
            " [1 1]\n",
            " [1 1]\n",
            " [1 1]\n",
            " [1 0]\n",
            " [0 0]\n",
            " [1 1]\n",
            " [1 1]\n",
            " [0 0]\n",
            " [0 0]\n",
            " [0 0]\n",
            " [1 1]\n",
            " [0 0]\n",
            " [0 0]\n",
            " [1 1]\n",
            " [1 1]\n",
            " [0 0]\n",
            " [1 1]\n",
            " [1 1]\n",
            " [0 0]\n",
            " [0 0]\n",
            " [0 0]\n",
            " [1 0]\n",
            " [0 0]\n",
            " [0 1]\n",
            " [0 0]\n",
            " [0 0]\n",
            " [0 0]\n",
            " [1 1]\n",
            " [0 0]\n",
            " [1 1]\n",
            " [0 0]\n",
            " [0 0]\n",
            " [0 0]]\n"
          ],
          "name": "stdout"
        }
      ]
    },
    {
      "cell_type": "markdown",
      "metadata": {
        "id": "h4Hwj34ziWQW",
        "colab_type": "text"
      },
      "source": [
        "## Making the Confusion Matrix"
      ]
    },
    {
      "cell_type": "code",
      "metadata": {
        "id": "bg68iSYLwdsg",
        "colab_type": "code",
        "colab": {
          "base_uri": "https://localhost:8080/",
          "height": 34
        },
        "outputId": "bf9b456d-8857-43b2-d3b2-cc835d50f796"
      },
      "source": [
        "from sklearn.metrics import confusion_matrix, accuracy_score\n",
        "\n",
        "confusion_matrix(y_test,y_pred)\n",
        "\n",
        "accuracy_score(y_test,y_pred)\n"
      ],
      "execution_count": 25,
      "outputs": [
        {
          "output_type": "execute_result",
          "data": {
            "text/plain": [
              "0.8666666666666667"
            ]
          },
          "metadata": {
            "tags": []
          },
          "execution_count": 25
        }
      ]
    },
    {
      "cell_type": "markdown",
      "metadata": {
        "id": "6OMC_P0diaoD",
        "colab_type": "text"
      },
      "source": [
        "## Visualising the Training set results"
      ]
    },
    {
      "cell_type": "code",
      "metadata": {
        "id": "1dZCl6vBxIm3",
        "colab_type": "code",
        "colab": {
          "base_uri": "https://localhost:8080/",
          "height": 350
        },
        "outputId": "f6c347b5-f69b-4ae3-85db-d51643713834"
      },
      "source": [
        "from matplotlib.colors import ListedColormap\n",
        "X_set, y_set = sc.inverse_transform(X_train), y_train\n",
        "X1, X2 = np.meshgrid(np.arange(start = X_set[:, 0].min() - 10, stop = X_set[:, 0].max() + 10, step = 0.25),\n",
        "                     np.arange(start = X_set[:, 1].min() - 1000, stop = X_set[:, 1].max() + 1000, step = 0.25))\n",
        "plt.contourf(X1, X2, classifier.predict(sc.transform(np.array([X1.ravel(), X2.ravel()]).T)).reshape(X1.shape),\n",
        "             alpha = 0.75, cmap = ListedColormap(('red', 'green')))\n",
        "plt.xlim(X1.min(), X1.max())\n",
        "plt.ylim(X2.min(), X2.max())\n",
        "for i, j in enumerate(np.unique(y_set)):\n",
        "    plt.scatter(X_set[y_set == j, 0], X_set[y_set == j, 1], c = ListedColormap(('red', 'green'))(i), label = j)\n",
        "plt.title('Naive Bayes (Training set)')\n",
        "plt.xlabel('Age')\n",
        "plt.ylabel('Estimated Salary')\n",
        "plt.legend()\n",
        "plt.show()"
      ],
      "execution_count": 27,
      "outputs": [
        {
          "output_type": "stream",
          "text": [
            "*c* argument looks like a single numeric RGB or RGBA sequence, which should be avoided as value-mapping will have precedence in case its length matches with *x* & *y*.  Please use the *color* keyword-argument or provide a 2-D array with a single row if you intend to specify the same RGB or RGBA value for all points.\n",
            "*c* argument looks like a single numeric RGB or RGBA sequence, which should be avoided as value-mapping will have precedence in case its length matches with *x* & *y*.  Please use the *color* keyword-argument or provide a 2-D array with a single row if you intend to specify the same RGB or RGBA value for all points.\n"
          ],
          "name": "stderr"
        },
        {
          "output_type": "display_data",
          "data": {
            "image/png": "[encoded data removed]",
            "text/plain": [
              "<Figure size 432x288 with 1 Axes>"
            ]
          },
          "metadata": {
            "tags": [],
            "needs_background": "light"
          }
        }
      ]
    },
    {
      "cell_type": "markdown",
      "metadata": {
        "id": "48oij5_bxNXo",
        "colab_type": "text"
      },
      "source": [
        "## Visualising the Test set results"
      ]
    },
    {
      "cell_type": "code",
      "metadata": {
        "id": "QwBLTen9xRqA",
        "colab_type": "code",
        "colab": {
          "base_uri": "https://localhost:8080/",
          "height": 350
        },
        "outputId": "b748d4ec-8954-44c8-bc9a-9ece26dd78d4"
      },
      "source": [
        "from matplotlib.colors import ListedColormap\n",
        "X_set, y_set = sc.inverse_transform(X_test), y_test\n",
        "X1, X2 = np.meshgrid(np.arange(start = X_set[:, 0].min() - 10, stop = X_set[:, 0].max() + 10, step = 0.25),\n",
        "                     np.arange(start = X_set[:, 1].min() - 1000, stop = X_set[:, 1].max() + 1000, step = 0.25))\n",
        "plt.contourf(X1, X2, classifier.predict(sc.transform(np.array([X1.ravel(), X2.ravel()]).T)).reshape(X1.shape),\n",
        "             alpha = 0.75, cmap = ListedColormap(('red', 'green')))\n",
        "plt.xlim(X1.min(), X1.max())\n",
        "plt.ylim(X2.min(), X2.max())\n",
        "for i, j in enumerate(np.unique(y_set)):\n",
        "    plt.scatter(X_set[y_set == j, 0], X_set[y_set == j, 1], c = ListedColormap(('red', 'green'))(i), label = j)\n",
        "plt.title('Naive Bayes (Test set)')\n",
        "plt.xlabel('Age')\n",
        "plt.ylabel('Estimated Salary')\n",
        "plt.legend()\n",
        "plt.show()"
      ],
      "execution_count": 28,
      "outputs": [
        {
          "output_type": "stream",
          "text": [
            "*c* argument looks like a single numeric RGB or RGBA sequence, which should be avoided as value-mapping will have precedence in case its length matches with *x* & *y*.  Please use the *color* keyword-argument or provide a 2-D array with a single row if you intend to specify the same RGB or RGBA value for all points.\n",
            "*c* argument looks like a single numeric RGB or RGBA sequence, which should be avoided as value-mapping will have precedence in case its length matches with *x* & *y*.  Please use the *color* keyword-argument or provide a 2-D array with a single row if you intend to specify the same RGB or RGBA value for all points.\n"
          ],
          "name": "stderr"
        },
        {
          "output_type": "display_data",
          "data": {
            "image/png": "[encoded data removed]",
            "text/plain": [
              "<Figure size 432x288 with 1 Axes>"
            ]
          },
          "metadata": {
            "tags": [],
            "needs_background": "light"
          }
        }
      ]
    }
  ]
}